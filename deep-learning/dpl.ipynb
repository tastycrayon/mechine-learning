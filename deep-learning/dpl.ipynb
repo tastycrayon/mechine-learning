{
 "cells": [
  {
   "cell_type": "code",
   "execution_count": 81,
   "metadata": {},
   "outputs": [],
   "source": [
    "import numpy as np\n",
    "\n",
    "x = np.array(([3, 5], [5, 1], [10, 2]), dtype=float)\n",
    "y = np.array(([75], [82], [93]), dtype=float)\n",
    "\n",
    "X = x / np.amax(x, axis=0)\n",
    "Y = y / 100\n"
   ]
  },
  {
   "cell_type": "code",
   "execution_count": 82,
   "metadata": {},
   "outputs": [
    {
     "data": {
      "text/plain": [
       "<matplotlib.legend.Legend at 0x2066e475f70>"
      ]
     },
     "execution_count": 82,
     "metadata": {},
     "output_type": "execute_result"
    },
    {
     "data": {
      "image/png": "[encoded data removed]",
      "text/plain": [
       "<Figure size 432x288 with 1 Axes>"
      ]
     },
     "metadata": {
      "needs_background": "light"
     },
     "output_type": "display_data"
    }
   ],
   "source": [
    "# input matrix size = 3 x 2\n",
    "# [[0.3, 1. ],\n",
    "# [0.5, 0.2],\n",
    "# [1. , 0.4]]\n",
    "\n",
    "# output matrix size = 3 x 1\n",
    "# [[0.75],\n",
    "# [0.82],\n",
    "# [0.93]]\n",
    "\n",
    "# Equation for 3 layer ( input, 1 hidden, output )\n",
    "# [3,  5]                        [ 3w¹11 + 5w¹21,  3w¹12 + 5w¹22,  3w¹13 + 5w¹23]\n",
    "# [5,  1] x [w¹11, w¹12, w¹13] = [ 5w¹11 + 1w¹21,  5w¹12 + 1w¹22,  5w¹13 + 1w¹23]\n",
    "# [10, 2]   [w¹21, w¹22, w¹23]   [10w¹11 + 2w¹21, 10w¹12 + 2w¹22, 10w¹13 + 2w¹23]\n",
    "# X(inputs)  W¹(weights)          Z²(second/hidden layer) (3 x 3)\n",
    "\n",
    "# Z² = X * W¹               .... (1)\n",
    "# a² = f(XW¹)               .... (2)\n",
    "\n",
    "# (3x1) = [3x3]*[3*1]\n",
    "# Z³ = a² * W²              .... (3)\n",
    "# ŷ = f(Z³)                 .... (4) [ f is sigmoid fun]\n",
    "\n",
    "# synapse, x1 = input * weight (ex: 3w¹11)\n",
    "# synapse only multiplies\n",
    "# neurons add all multiplied values\n",
    "# neurons, Σx = x1 + x2 + x3 (ex: [3w¹11 + 5w¹21])\n",
    "# neurons activation, a = 1/(1+e^-z)\n",
    "\n",
    "## Cost function\n",
    "# (how wrong or costly our model is)\n",
    "# Training network = minimizing cost function\n",
    "# our cost = inputs and weights on synapses\n",
    "\n",
    "# j = Σ 1/2 * (y-ŷ)²        .... (5)\n",
    "# [the smaller the better]\n",
    "\n",
    "# j = Σ 1/2 * (y - f( f(XW¹) * W² ) )²\n",
    "# how j changes when w changes?\n",
    "\n",
    "# dj/dw is + or - ? \n",
    "# positive means going uphill, negative means downhill\n",
    "# rate of change of j compared to w\n",
    "\n",
    "# winner dj/dw = 0\n",
    "# disadvantage: non-convex, local minimum, global minimum\n",
    "# Solution : stochastic gradient descent, calculate one weight at a time\n",
    "\n",
    "# math for dj/dw\n",
    "# W = W¹, W² [we have two weights, W¹=3x3 & W²=1x3]\n",
    "# so dj/dW¹=3x3 & dj/dW²=1x3\n",
    "\n",
    "# For dj/dW²,\n",
    "\n",
    "# dj/dW² = d Σ 1/2 * (y-ŷ)² / dW²\n",
    "# we know, d/dx(u+v) = du/dx + dv/dx\n",
    "# ex: d/dx(3x+2x²) = 3 + 4x [ sum rule in differenciation ]\n",
    "\n",
    "# for a single item,\n",
    "# dj/dW² = 2 * 1/2 * (y-ŷ) [power rule]\n",
    "# dj/dW² = (y-ŷ) * d/dW²(y-ŷ)\n",
    "\n",
    "# (fog)' = (f'og) * g'\n",
    "# ex: d/dx (3x+2x²)² = 2*(3x+2x²) (3+4x) \n",
    "\n",
    "# dj/dW² = (y-ŷ) * (0 - dŷ/dW²)\n",
    "# dj/dW² = -(y-ŷ) * dŷ/dW²\n",
    "# dj/dW² = -(y-ŷ) * dŷ/dZ³ * dZ³/dW²\n",
    "\n",
    "# dz/dx = dz/dy * dy/dx [multiplication chain rule]\n",
    "\n",
    "# we need to diffenciate sigmoid function respect to Z³\n",
    "# F(Z) = 1/1+e^-z ( let, 1 = u, 1+e^-z = v)\n",
    "# F(Z)' = u'v - uv' / v²\n",
    "# F(Z)' = 0*v - {1 * (0 + -e^-z)} / (1+e^-z)^²\n",
    "# F(Z)' = e^-z / (1+e^-z)² ... (6)\n",
    "\n",
    "# dj/dW² = -(y-ŷ) *f'(Z³)' * dZ³/dW²\n",
    "# dj/dW² = d³ * a²\n",
    "# [ here, Z³ = a² * W² & d³ = -(y-ŷ) *f'(Z³)' ]\n",
    "#\n",
    "# Now for first layer\n",
    "# dj/dW¹ = -(y-ŷ) *f'(Z³)' * dZ³/dW¹\n",
    "# dj/dW¹ = d³ * dZ³/da² * da²/dW¹ [ d³ = -(y-ŷ) *f'(Z³)' ]\n",
    "# dj/dW¹ = d³ * (W²[T]) * da²/dW¹ [t = transport]\n",
    "# dj/dW¹ = d³ * (W²[T]) * da²/dZ² * dZ²/dW¹\n",
    "# dj/dW¹ = d³ * (W²[T]) * f'(Z²) * dZ²/dW¹\n",
    "# dj/dW¹ = d³ * (W²[T]) * f'(Z²) * X[T]\n",
    "# dj/dW¹ = X[T] * d² \n",
    "# here, d² = d³ * (W²[T]) * f'(Z²) \n",
    "\n",
    "def sigmoid( z):\n",
    "    return 1 / (1 + np.exp(-z))\n",
    "def sigmoidPrime(z):\n",
    "    # derivative of sigmoid function \n",
    "    return np.exp(-z)/((1 + np.exp(-z))**2)\n",
    "\n",
    "testValues = np.arange(-5,5,0.01)\n",
    "from matplotlib import pyplot as plt\n",
    "\n",
    "plt.plot(testValues, sigmoid(testValues))\n",
    "plt.plot(testValues, sigmoidPrime(testValues))\n",
    "plt.grid(1)\n",
    "plt.legend(['sigmoid','sigmoidPrime'])"
   ]
  },
  {
   "cell_type": "code",
   "execution_count": 83,
   "metadata": {},
   "outputs": [],
   "source": [
    "class Neural_Netowrk(object):\n",
    "    def __init__(self):\n",
    "        # Define HyperParameters\n",
    "        self.inputLayerSize = 2\n",
    "        self.outputLayerSize = 1\n",
    "        self.hiddenLayerSize = 3\n",
    "\n",
    "        # Weights (parameters)\n",
    "        self.W1 = np.random.randn(self.inputLayerSize, self.hiddenLayerSize)\n",
    "        self.W2 = np.random.randn(self.hiddenLayerSize, self.outputLayerSize)\n",
    "\n",
    "    # propagates input through network\n",
    "    def forward(self, X):\n",
    "        self.z2 = np.dot(X, self.W1)\n",
    "        self.a2 = self.sigmoid(self.z2)\n",
    "\n",
    "        self.z3 = np.dot(self.a2, self.W2)\n",
    "        yHat = self.sigmoid(self.z3)\n",
    "        return yHat\n",
    "\n",
    "    # Apply sigmoid activation function\n",
    "    def sigmoid(self, z):\n",
    "        return 1 / (1 + np.exp(-z))\n",
    "\n",
    "    def sigmoidPrime(self, z):\n",
    "        # derivative of sigmoid function\n",
    "        return np.exp(-z) / ((1 + np.exp(-z)) ** 2)\n",
    "\n",
    "    def costFunction(self, X, y):\n",
    "        # compute cost fir given xy. use weights already stored in class\n",
    "        self.yHat = self.forward(X)\n",
    "        # j = Σ 1/2 * (y-ŷ)²\n",
    "        j = 0.5 * sum((y - self.yHat) ** 2)\n",
    "        return j\n",
    "\n",
    "    def costFunctionPrime(self, X, y):\n",
    "        self.yHat = self.forward(X)\n",
    "        # d³ = -(y-ŷ) *f'(Z³)'\n",
    "        delta3 = np.multiply(-(y - self.yHat), self.sigmoidPrime(self.z3))\n",
    "        # dj/dW² = d³ * a²\n",
    "        djdW2 = np.dot(self.a2, delta3)\n",
    "        # d² = d³ * (W²[T]) * f'(Z²)\n",
    "        delta2 = np.dot(delta3, self.W2.T) * self.sigmoidPrime(self.z2)\n",
    "        # dj/dW¹ = X[T] * d²\n",
    "        djdW1 = np.dot(X.T, delta2)\n",
    "        return djdW1, djdW2\n"
   ]
  },
  {
   "cell_type": "code",
   "execution_count": 84,
   "metadata": {},
   "outputs": [],
   "source": [
    "NN = Neural_Netowrk()"
   ]
  },
  {
   "cell_type": "code",
   "execution_count": 85,
   "metadata": {},
   "outputs": [],
   "source": [
    "cost1 = NN.costFunction(X,y)"
   ]
  },
  {
   "cell_type": "code",
   "execution_count": 86,
   "metadata": {},
   "outputs": [],
   "source": [
    "djdW1, djdW2 = NN.costFunctionPrime(X,y)"
   ]
  },
  {
   "cell_type": "code",
   "execution_count": 87,
   "metadata": {},
   "outputs": [
    {
     "data": {
      "text/plain": [
       "(array([[2.50550815, 6.94737445, 4.96441656],\n",
       "        [2.04134073, 6.70039783, 3.96781186]]),\n",
       " array([[-13.97486481],\n",
       "        [-21.36781953],\n",
       "        [-21.264681  ]]))"
      ]
     },
     "execution_count": 87,
     "metadata": {},
     "output_type": "execute_result"
    }
   ],
   "source": [
    "djdW1, djdW2"
   ]
  },
  {
   "cell_type": "code",
   "execution_count": 88,
   "metadata": {},
   "outputs": [],
   "source": [
    "scalar = 3\n",
    "NN.w1 = NN.W1 + scalar * djdW1\n",
    "NN.w2 = NN.W2 + scalar * djdW2\n",
    "cost2 = NN.costFunction(X, y)"
   ]
  },
  {
   "cell_type": "code",
   "execution_count": 89,
   "metadata": {},
   "outputs": [
    {
     "name": "stdout",
     "output_type": "stream",
     "text": [
      "[10442.6774408] [10442.6774408]\n"
     ]
    }
   ],
   "source": [
    "print(cost1, cost2)"
   ]
  },
  {
   "cell_type": "code",
   "execution_count": 90,
   "metadata": {},
   "outputs": [],
   "source": [
    "djdW1, djdW2 = NN.costFunctionPrime(X,y)\n",
    "\n",
    "NN.W1 = NN.W1 - scalar * djdW1\n",
    "NN.W2 = NN.W2 - scalar * djdW2"
   ]
  },
  {
   "cell_type": "code",
   "execution_count": 91,
   "metadata": {},
   "outputs": [],
   "source": [
    "cost3 = NN.costFunction(X, y)"
   ]
  },
  {
   "cell_type": "code",
   "execution_count": 92,
   "metadata": {},
   "outputs": [
    {
     "name": "stdout",
     "output_type": "stream",
     "text": [
      "[10442.6774408] [10370.93953235]\n"
     ]
    }
   ],
   "source": [
    "print(cost2, cost3)"
   ]
  }
 ],
 "metadata": {
  "kernelspec": {
   "display_name": "Python 3.10.6 64-bit (system)",
   "language": "python",
   "name": "python3"
  },
  "language_info": {
   "codemirror_mode": {
    "name": "ipython",
    "version": 3
   },
   "file_extension": ".py",
   "mimetype": "text/x-python",
   "name": "python",
   "nbconvert_exporter": "python",
   "pygments_lexer": "ipython3",
   "version": "3.10.6"
  },
  "orig_nbformat": 4,
  "vscode": {
   "interpreter": {
    "hash": "369f2c481f4da34e4445cda3fffd2e751bd1c4d706f27375911949ba6bb62e1c"
   }
  }
 },
 "nbformat": 4,
 "nbformat_minor": 2
}
